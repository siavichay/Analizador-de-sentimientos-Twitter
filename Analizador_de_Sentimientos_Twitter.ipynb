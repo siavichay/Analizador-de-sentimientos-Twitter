{
 "cells": [
  {
   "cell_type": "markdown",
   "metadata": {},
   "source": [
    "# Analizador de Sentimientos\n",
    "Por: Diana Aucancela y Alexander Siavichay\n",
    "## Introducción\n",
    "A continuación se presenta el código necesario para realizar un analizador de sentimientos.\n",
    "Procedimiento:\n",
    "- Obtención de los datos desde la Web para el entrenamiento\n",
    "- Tratamiento de los datos\n",
    "- Modelado de la Red Neuronal con CNN\n",
    "- Entrenamiento\n",
    "- Análisis de Resultados\n",
    "\n",
    "## Paquetes instalados\n",
    "- conda install -c anaconda beautifulsoup4\n",
    "- conda install -c anaconda requests\n",
    "- conda install -c anaconda scikit-learn\n",
    "- conda install -c conda-forge keras\n",
    "- \n",
    "\n",
    "## Obtención de los datos desde la Web para el entrenamiento\n",
    "Para poder reconocer los sentimientos de una persona mediante el texto que ha escrito, necesitamos dar a conocer a nuestro modelo de Red que textos son aquellos que expresan sentimientos como: alegría, tristeza, ira.\n",
    "\n",
    "En una empresa que disponga de una página web, redes sociales, puede analizar estos textos para conocer la opinión de sus clientes, pero no solo conocer de manera particular, si no, llegar a obtener datos globales que le permitan tomar decisiones. Por ejemplo un gráfico estadístico de los sentimientos especificados anteriormente podrían ser un punto de partida para un administrador.\n",
    "\n",
    "El siguiente código realizar una obtención de datos de páginas web que contienen mensajes específicos y serán almacenados y etiquetados en un archivo de texto."
   ]
  },
  {
   "cell_type": "code",
   "execution_count": 3,
   "metadata": {},
   "outputs": [
    {
     "data": {
      "text/html": [
       "<div>\n",
       "<style scoped>\n",
       "    .dataframe tbody tr th:only-of-type {\n",
       "        vertical-align: middle;\n",
       "    }\n",
       "\n",
       "    .dataframe tbody tr th {\n",
       "        vertical-align: top;\n",
       "    }\n",
       "\n",
       "    .dataframe thead th {\n",
       "        text-align: right;\n",
       "    }\n",
       "</style>\n",
       "<table border=\"1\" class=\"dataframe\">\n",
       "  <thead>\n",
       "    <tr style=\"text-align: right;\">\n",
       "      <th></th>\n",
       "      <th>id</th>\n",
       "      <th>description</th>\n",
       "      <th>sentiment</th>\n",
       "      <th>target</th>\n",
       "    </tr>\n",
       "  </thead>\n",
       "  <tbody>\n",
       "    <tr>\n",
       "      <th>0</th>\n",
       "      <td>9806</td>\n",
       "      <td>Les comparto un gran video de la BBC donde se ...</td>\n",
       "      <td>tristeza</td>\n",
       "      <td>1</td>\n",
       "    </tr>\n",
       "    <tr>\n",
       "      <th>1</th>\n",
       "      <td>19352</td>\n",
       "      <td>Segundo episodio de ??Nada les calza? luego...</td>\n",
       "      <td>tristeza</td>\n",
       "      <td>1</td>\n",
       "    </tr>\n",
       "    <tr>\n",
       "      <th>2</th>\n",
       "      <td>13450</td>\n",
       "      <td>#ùNOMBRE?</td>\n",
       "      <td>alegria</td>\n",
       "      <td>0</td>\n",
       "    </tr>\n",
       "    <tr>\n",
       "      <th>3</th>\n",
       "      <td>14802</td>\n",
       "      <td>A veces me pierdo..un padre me contó que disc...</td>\n",
       "      <td>alegria</td>\n",
       "      <td>0</td>\n",
       "    </tr>\n",
       "    <tr>\n",
       "      <th>4</th>\n",
       "      <td>17349</td>\n",
       "      <td>@sleepychimmy Otra sorpresa mís para este gran...</td>\n",
       "      <td>alegria</td>\n",
       "      <td>0</td>\n",
       "    </tr>\n",
       "    <tr>\n",
       "      <th>...</th>\n",
       "      <td>...</td>\n",
       "      <td>...</td>\n",
       "      <td>...</td>\n",
       "      <td>...</td>\n",
       "    </tr>\n",
       "    <tr>\n",
       "      <th>95</th>\n",
       "      <td>19331</td>\n",
       "      <td>Joven recibió un botellazo en un intento de a...</td>\n",
       "      <td>ira</td>\n",
       "      <td>2</td>\n",
       "    </tr>\n",
       "    <tr>\n",
       "      <th>96</th>\n",
       "      <td>1289</td>\n",
       "      <td>Desde Laguna de Duero recibo la visita de esta...</td>\n",
       "      <td>alegria</td>\n",
       "      <td>0</td>\n",
       "    </tr>\n",
       "    <tr>\n",
       "      <th>97</th>\n",
       "      <td>2911</td>\n",
       "      <td>Tuve que llamar a la lánea de Claro y me atend...</td>\n",
       "      <td>tristeza</td>\n",
       "      <td>1</td>\n",
       "    </tr>\n",
       "    <tr>\n",
       "      <th>98</th>\n",
       "      <td>12702</td>\n",
       "      <td>@DeniseMaerker @Faitelson_ESPN @AtandoCabos Ad...</td>\n",
       "      <td>tristeza</td>\n",
       "      <td>1</td>\n",
       "    </tr>\n",
       "    <tr>\n",
       "      <th>99</th>\n",
       "      <td>19795</td>\n",
       "      <td>Segundo episodio de ??Nada les calza? luego...</td>\n",
       "      <td>tristeza</td>\n",
       "      <td>1</td>\n",
       "    </tr>\n",
       "  </tbody>\n",
       "</table>\n",
       "<p>100 rows × 4 columns</p>\n",
       "</div>"
      ],
      "text/plain": [
       "       id                                        description sentiment  target\n",
       "0    9806  Les comparto un gran video de la BBC donde se ...  tristeza       1\n",
       "1   19352  Segundo episodio de ??Nada les calza? luego...  tristeza       1\n",
       "2   13450                                          #ùNOMBRE?   alegria       0\n",
       "3   14802  A veces me pierdo..un padre me contó que disc...   alegria       0\n",
       "4   17349  @sleepychimmy Otra sorpresa mís para este gran...   alegria       0\n",
       "..    ...                                                ...       ...     ...\n",
       "95  19331  Joven recibió un botellazo en un intento de a...       ira       2\n",
       "96   1289  Desde Laguna de Duero recibo la visita de esta...   alegria       0\n",
       "97   2911  Tuve que llamar a la lánea de Claro y me atend...  tristeza       1\n",
       "98  12702  @DeniseMaerker @Faitelson_ESPN @AtandoCabos Ad...  tristeza       1\n",
       "99  19795  Segundo episodio de ??Nada les calza? luego...  tristeza       1\n",
       "\n",
       "[100 rows x 4 columns]"
      ]
     },
     "execution_count": 3,
     "metadata": {},
     "output_type": "execute_result"
    }
   ],
   "source": [
    "import pandas as pd\n",
    "\n",
    "columnas = ['id','description','description']\n",
    "data_pure = pd.read_csv('dataset/formateado_sentimientos_utf8.csv', delimiter=\";\",encoding = \"latin-1\",usecols=['id', 'description', 'sentiment','target'])\n",
    "data=data_pure\n",
    "# nos quedamos con una selección de 20.000 tweets aleatorios\n",
    "data = data.sample(n=2000, random_state=42)\n",
    "data = data.reset_index(drop=True) # reconstruimos los índices para que sean consecutivos\n",
    "data.head(100)"
   ]
  },
  {
   "cell_type": "markdown",
   "metadata": {},
   "source": [
    "## Métodos con spacy para lemantizar todo el corpus"
   ]
  },
  {
   "cell_type": "code",
   "execution_count": 1,
   "metadata": {},
   "outputs": [],
   "source": [
    "import spacy\n",
    "from spacy import displacy\n",
    "from spacy.lang.es.stop_words import STOP_WORDS"
   ]
  },
  {
   "cell_type": "code",
   "execution_count": 19,
   "metadata": {},
   "outputs": [
    {
     "data": {
      "text/plain": [
       "'\\nCodificación del corpus a una matriz numérica\\n'"
      ]
     },
     "execution_count": 19,
     "metadata": {},
     "output_type": "execute_result"
    }
   ],
   "source": [
    "'''\n",
    "Lemmatizing example for a verb, noun.\n",
    "'''\n",
    "#Se necesita instalar python -m spacy download es_core_news_sm para trabajar con dataset en español\n",
    "nlp = spacy.load('es_core_news_sm')\n",
    "def construir_corpus(doc):\n",
    "    doc=nlp(doc)\n",
    "    corpus=[]\n",
    "    texto='';\n",
    "    i=0\n",
    "    for token in doc:\n",
    "        if not token.is_stop and  token.is_alpha and len(token.lemma_)>3:\n",
    "            texto += ' '+token.lemma_\n",
    "    return texto\n",
    "'''\n",
    "Codificación del corpus a una matriz numérica\n",
    "'''"
   ]
  },
  {
   "cell_type": "code",
   "execution_count": 18,
   "metadata": {},
   "outputs": [
    {
     "name": "stdout",
     "output_type": "stream",
     "text": [
      "0       Les comparto un gran video de la BBC donde se ...\n",
      "1       Segundo episodio de ??Nada les calza? luego...\n",
      "2                                               #ùNOMBRE?\n",
      "3       A veces me pierdo..un padre me contó que disc...\n",
      "4       @sleepychimmy Otra sorpresa mís para este gran...\n",
      "                              ...                        \n",
      "1995    #15ENE20|| Debo se garantía para el ciudadano,...\n",
      "1996    #17Ene El primer ministro de Canadí, @JustinTr...\n",
      "1997    Dicen que Luis Andino se enojó con su poli el...\n",
      "1998    @AlbertoRavell No entiendo la factibilidad ni ...\n",
      "1999    #ó?LTIMAHORA Justin Trudeau pide a Irán que en...\n",
      "Name: description, Length: 2000, dtype: object\n",
      "0        compartir video íguilas real combatir preso z...\n",
      "1        episodio discursar Cruyff técnico discursar p...\n",
      "2                                                 ùNOMBRE\n",
      "3        perder padre discutir hijo decir Cuíl hacer d...\n",
      "4                              sorpresa festivo felicidad\n",
      "                              ...                        \n",
      "1995     Debo garantir ciudadano afligir buscar auxili...\n",
      "1996     ministro Canadí Teherán enviar laboratorio fr...\n",
      "1997       Luis Andino poli Zorro embajador entender Iran\n",
      "1998     entender factibilidad utilidad medir sostener...\n",
      "1999     Justin Trudeau pedir Irán enviar Francia caja...\n",
      "Name: description, Length: 2000, dtype: object\n"
     ]
    }
   ],
   "source": [
    "tweets=data['description']\n",
    "print (tweets)\n",
    "tweets=tweets.map(construir_corpus)\n",
    "print (tweets)\n",
    "#corpus=tweets.map(construir_corpus)"
   ]
  },
  {
   "cell_type": "code",
   "execution_count": 20,
   "metadata": {},
   "outputs": [],
   "source": [
    "data['description']=tweets"
   ]
  },
  {
   "cell_type": "markdown",
   "metadata": {},
   "source": [
    "## Almacenamiento del corpus obtenido en un svc"
   ]
  },
  {
   "cell_type": "code",
   "execution_count": 21,
   "metadata": {},
   "outputs": [
    {
     "data": {
      "text/plain": [
       "(array([396., 424., 422., 391., 367.]),\n",
       " array([4.00000e+00, 4.06880e+03, 8.13360e+03, 1.21984e+04, 1.62632e+04,\n",
       "        2.03280e+04]),\n",
       " <a list of 5 Patch objects>)"
      ]
     },
     "execution_count": 21,
     "metadata": {},
     "output_type": "execute_result"
    },
    {
     "data": {
      "image/png": "[encoded data removed]",
      "text/plain": [
       "<Figure size 432x288 with 1 Axes>"
      ]
     },
     "metadata": {
      "needs_background": "light"
     },
     "output_type": "display_data"
    }
   ],
   "source": [
    "from matplotlib import pyplot as plt\n",
    "\n",
    "plt.hist(data['id'], bins=5)"
   ]
  },
  {
   "cell_type": "code",
   "execution_count": 22,
   "metadata": {},
   "outputs": [
    {
     "data": {
      "text/plain": [
       "(array([636., 744., 620.]),\n",
       " array([0.        , 0.66666667, 1.33333333, 2.        ]),\n",
       " <a list of 3 Patch objects>)"
      ]
     },
     "execution_count": 22,
     "metadata": {},
     "output_type": "execute_result"
    },
    {
     "data": {
      "image/png": "[encoded data removed]",
      "text/plain": [
       "<Figure size 432x288 with 1 Axes>"
      ]
     },
     "metadata": {
      "needs_background": "light"
     },
     "output_type": "display_data"
    }
   ],
   "source": [
    "# ahora la etiqueta para los tweets positivos es el 1\n",
    "data.loc[data['sentiment'] == 4, 'sentiment'] = 1\n",
    "plt.hist(data['sentiment'], bins=3)"
   ]
  },
  {
   "cell_type": "code",
   "execution_count": 23,
   "metadata": {},
   "outputs": [
    {
     "name": "stderr",
     "output_type": "stream",
     "text": [
      "Using TensorFlow backend.\n"
     ]
    }
   ],
   "source": [
    "from keras.preprocessing.text import Tokenizer\n",
    "\n",
    "# codificar tweets -> corpus -> one-hot\n",
    "# con limit podemos limitar el número de palabras del corpus\n",
    "def construir_corpus(tweets, limit=3000):\n",
    "    corpus=[]\n",
    "    i=0\n",
    "    for t in tweets:\n",
    "        if i>limit:\n",
    "            break\n",
    "        for w in t.lower().split():\n",
    "            # si la palabra no está en el corpus y no empieza por @ (usuario twitter)\n",
    "            if w[0] not in ('@') and 'http' not in w and len(w)>3 and not w in corpus:\n",
    "                corpus.append(w)\n",
    "                i=i+1\n",
    "    \n",
    "    # codificar palabras como enteros\n",
    "    t = Tokenizer()\n",
    "    t.fit_on_texts(corpus)\n",
    "    encoded_corpus = t.texts_to_matrix(corpus, mode='count')\n",
    "    \n",
    "    return corpus[:limit], encoded_corpus[:limit]"
   ]
  },
  {
   "cell_type": "code",
   "execution_count": 24,
   "metadata": {},
   "outputs": [
    {
     "name": "stdout",
     "output_type": "stream",
     "text": [
      "['sólo', 'nada', 'pienso', 'luego', 'existo', 'todo']\n",
      "[[0. 1. 0. 0. 0. 0. 0.]\n",
      " [0. 0. 1. 0. 0. 0. 0.]\n",
      " [0. 0. 0. 1. 0. 0. 0.]\n",
      " [0. 0. 0. 0. 1. 0. 0.]\n",
      " [0. 0. 0. 0. 0. 1. 0.]\n",
      " [0. 0. 0. 0. 0. 0. 1.]]\n"
     ]
    }
   ],
   "source": [
    "# Probamos con tres frases para confirmar que todo va bien\n",
    "tweets = ['Sólo sé que no sé nada', 'Pienso luego existo', ' todo @socrates y @descartes']\n",
    "\n",
    "corpus, encoded_corpus = construir_corpus(tweets)\n",
    "print (corpus)\n",
    "print (encoded_corpus)"
   ]
  },
  {
   "cell_type": "code",
   "execution_count": 25,
   "metadata": {},
   "outputs": [
    {
     "name": "stdout",
     "output_type": "stream",
     "text": [
      "['compartir', 'video', 'íguilas', 'real', 'combatir', 'preso', 'zorro', 'abatir', 'considerar', 'totémico', 'dios', 'solar', 'tutelar', 'mexica', 'huitzilopochtli', 'nahua', 'volar', 'episodio', 'discursar', 'cruyff', 'técnico', 'positivo', 'seriar', 'ganador', 'vender', 'humo', 'puro', 'palabra', 'predecible', 'bolillo', 'pesimista', 'negativo', 'calza', 'ùnombre', 'perder', 'padre', 'discutir', 'hijo', 'decir', 'cuíl', 'hacer', 'dudar', 'problema', 'quedaron', 'mudo', 'sorpresa', 'festivo', 'felicidad', 'salir', 'encerrar', 'creer', 'cáncer', 'vida', 'estúpido', 'olvidarse', 'calmarte', 'tenia', 'atacar', 'llanto', 'miedo', 'angustiar', 'enojar', 'prestar', 'hombro', 'besar', 'abrazar', 'refugiar', 'aforar', 'tormenta', 'joven', 'rubio', 'acabar', 'notar', 'extraño', 'mujer', 'curioso', 'verla', 'agradable', 'gustar', 'conocerla', 'ôùseñorita', 'apenar', 'hablarle', 'amigo', 'querer', 'pasar', 'volver', 'hablar', 'cambiar', 'enojarse', 'madre', 'diciéndome', 'deberia', 'estudiar', 'entrar', 'mirar', 'cabrear', 'exigente', 'capaz', 'genio', 'rabiar', 'imagina', 'estís', 'barricada', 'concertar', 'escuchar', 'alguien', 'canta', 'cesír', 'versar', 'saltar', 'llorar', 'john', 'cenar', 'pendulo', 'libro', 'raro', 'canal', 'publicar', 'bochinche', 'intencionado', 'investigar', 'funcionario', 'salario', 'asesorar', 'especializar', 'profesio', 'coraje', 'personar', 'dañooo', 'jajaja', 'pendejo', 'paso', 'viendo', 'sancionar', 'eeuu', 'diputar', 'opositor', 'directivo', 'recordar', 'ramos', 'allup', 'cabizbajo', 'anunciar', 'participar', 'elección', 'asegurar', 'ganar', 'chanchullo', 'depositar', 'miami', 'mira', 'pendejoto', 'estar', 'meter', 'acuérdate', 'city', 'uffff', 'gente', 'escandalizar', 'director', 'instituto', 'heteropatriarcado', 'animal', 'antitaurino', 'acostumbrados', 'rescatar', 'autopista', 'banco', 'entender', 'coherencia', 'político', 'sorprender', 'priori', 'acuerdodepaz', 'contener', 'disposición', 'futuro', 'abordar', 'multitud', 'desafío', 'década', 'afligir', 'colombia', 'pleno', 'aspecto', 'darí', 'esperanzar', 'sentar', 'base', 'pacífico', 'mamar', 'bajo', 'ultra', 'underground', 'gracia', 'atraer', 'finar', 'amigar', 'quejarse', 'tirarse', 'levantar', 'fícil', 'habrí', 'importante', 'mantener', 'actitud', 'arte', 'vivir', 'disfr', 'queridos', 'subir', 'pagar', 'cliente', 'deber', 'empresa', 'aplicar', 'reducir', 'coste', 'frente', 'cresta', 'delincuencia', 'chile', 'país', 'caer', 'despeñadero', 'totalmente', 'desmoralizar', 'izquierdo', 'difícil', 'llevarse', 'derecho', 'malvado', 'llevarme', 'simplemente', 'estí', 'desanimado', 'tudo', 'vergóªenza', 'justicia', 'llegar', 'casar', 'cansar', 'esposo', 'recibir', 'bombo', 'pancarta', 'torta', 'felicitaciones', 'papí', 'energiapositiva', 'único', 'diseñar', 'industrial', 'arrepentir', 'orgullosa', 'roma', 'extasiar', 'pedile', 'pintar', 'pileta', 'pisar', 'poner', 'punta', 'carrasco', 'vecino', 'público', 'negociar', 'inmobiliario', 'aparte', 'fernet', 'mate', 'mejorar', 'wacho', 'pibe', 'afortunado', 'abuelo', 'gritar', 'escalera', 'taladro', 'martillo', 'polla', 'heroes', 'jovenes', 'dormir', 'afectar', 'enfrentar', 'vileza', 'miseria', 'moral', 'gentuza', 'diario', 'ensalzar', 'delincuente', 'ladrón', 'traidor', 'perseguir', 'engaño', 'defender', 'valorar', 'libre', 'corría', 'oventik', 'inaugurar', 'caracol', 'zapatista', 'loret', 'transmitir', 'aristegui', 'viejo', 'periodista', 'carmen', 'ministro', 'canadiense', 'pedir', 'irán', 'enviar', 'francia', 'caja', 'negro', 'noticiasimryt', 'caber', 'presentador', 'estrellar', 'iraní', 'hispantv', 'pablo', 'iglesias', 'conflicto', 'mujeres', 'condenar', 'latigazo', 'círcel', 'atentar', 'velar', 'protestar', 'lloroso', 'vicepresidente', 'referir', 'optimista', 'alegrar', 'indispensable', 'ausencia', 'desgraciar', 'golpear', 'firmar', 'ojalí', 'ocurrir', 'frivolizar', 'enfermedad', 'terrible', 'empieza', 'martes', 'tener', 'videoclip', 'divertir', 'cacho', 'métrico', 'exacto', 'letra', 'ayaxyprok', 'poder', 'sacar', 'valentina', 'mueca', 'labio', 'juliana', 'juliantina', 'precioso', 'edit', 'jimin', 'bailar', 'black', 'swan', 'mundo', 'agradecer', 'considerándose', 'realmente', 'permitir', 'ángel', 'existir', 'carta', 'deprimir', 'desesperar', 'vanessa', 'senior', 'víctima', 'ofensa', 'humor', 'ofensivo', 'frustración', 'personal', 'recoja', 'haber', 'merecidamente', 'entristecido', 'doler', 'terrorismo', 'soñar', 'seguro', 'familia', 'incompleto', 'olvidar', 'corazon', 'seguir', 'saber', 'humanar', 'señor', 'agarrar', 'soltar', 'seco', 'lagrimar', 'derramarlas', 'mesar', 'arrebatar', 'durar', 'contentar', 'responsabilidad', 'hacerme', 'feliz', 'gracias', 'apoyar', 'carlos', 'sainz', 'reinar', 'desierto', 'conquistar', 'maravilloso', 'selva', 'comprar', 'enunrincondelaciudad', 'crivs', 'copetezz', 'madreselva', 'cdmx', 'xochimilco', 'mercado', 'plantas', 'roger', 'scruton', 'jovial', 'mamí', 'chanclasos', 'correr', 'ayudar', 'aumentar', 'ánimo', 'benditas', 'tomar', 'tipo', 'previsión', 'fraude', 'inevitablemente', 'sembrar', 'derrotismo', 'favorecer', 'vizcarra', 'contar', 'chico', 'dibujar', 'venir', 'mente', 'escudar', 'independiente', 'diciéndole', 'deprimido', 'tenías', 'engreír', 'sobrevivir', 'doncaster', 'molestar', 'soler', 'caminar', 'centrar', 'louis', 'narciso', 'tomlinson', 'lograr', 'etapa', 'felicitar', 'triunfar', 'luchar', 'tierra', 'pagano', 'lazo', 'sangrar', 'dañar', 'alma', 'rotar', 'amor', 'soledad', 'encontrar', 'tratar', 'renacer', 'vaciar', 'hallar', 'entristecer', 'haberte', 'conocer', 'aportar', 'sonreír', 'serio', 'sacarte', 'tigre', 'rifa', 'mantenimiento', 'guardar', 'amlo', 'proponer', 'presidencial', 'lotería', 'nacional', 'patético', 'irrelevante', 'garcía', 'luna', 'lamentable', 'sentir', 'tanto', 'homicidio', 'parecer', 'narco', 'secretario', 'crimen', 'continente', 'riesgoso', 'santo', 'viernes', 'terrorista', 'calle', 'ôðhasta', 'querido', 'hombre', 'guayaba', 'culo', 'ambientar', 'empezar', 'florecer', 'ôùquién', 'decidir', 'abortar', 'explicar', 'paja', 'pensar', 'chat', 'terminar', 'bajon', 'medio', 'hora', 'siesta', 'despertar', 'cruzar', 'manejar', 'deos', 'adorar', 'mexicano', 'gramo', 'láneas', 'manir', 'formar', 'sentirte', 'enfermar', 'mental', 'vigilar', 'barrio', 'bruselas', 'probablemente', 'trabajar', 'dinero', 'genial', 'artista', 'tardar', 'mural', 'freír', 'imbeciles', 'cagarse', 'rayandolo', 'conseguir', 'rayar', 'orto', 'productivo', 'contestar', 'vicepresidenta', 'asistir', 'homenaje', 'memoria', 'cadete', 'fallecido', 'escuela', 'policía', 'santander', 'sueño', 'héroe', 'twitter', 'falto', 'tweet', 'colaborativo', 'peores', 'respuestas', 'mandas', 'nudes', 'empiezo', 'mándame', 'escena', 'agradecido', 'esoy', 'darte', 'tristeza', 'play', 'traer', 'nene', 'vacación', 'regalar', 'flor', 'ramo', 'cargar', 'túnel', 'aeropuerto', 'ríonegro', 'quedar', 'maravillar', 'obrar', 'minuto', 'evocar', 'petro', 'bogotí', 'ocurrente', 'preguntar', 'sonoro', 'carcajada', 'semana', 'brazo', 'pechar', 'exactamente', 'brujo', 'dicho', 'problemas', 'reconocimiento', 'eddy', 'reynoso', 'entrenador', 'ôðfelicidades', 'boxear', 'noboxingnolife', 'teamvaldez', 'panistas', 'reciclar', 'tendríamos', 'furia', 'matar', 'envidiar', 'virulento', 'bilis', 'delatar', 'reventar', 'malsano', 'talento', 'planes', 'mañana', 'sanantontxu', 'mungia', 'ambiente', 'músico', 'feriar', 'concursar', 'morcillo', 'chorizo', 'partir', 'pelota', 'hamaiketako', 'talo', 'llover', 'restaurante', 'plan', 'tradición', 'bizkaia', 'compañero', 'victoria', 'contundente', 'madruguete', 'afortunadamente', 'iniciativo', 'gobernar', 'reformar', 'judicial', 'debilitar', 'fuertemente', 'garantir', 'individual', 'nombre', 'pronombre', 'género', 'marcar', 'sexo', 'calificar', 'testarudo', 'majestad', 'copar', 'whisky', 'funcionamiento', 'perú', 'fantochada', 'ôùporque', 'caso', 'convenir', 'políticamente', 'zoraida', 'taciturno', 'vela', 'intervenir', 'fiscal', 'loco', 'prefiero', 'equipar', 'competir', 'final', 'apelar', 'gestar', 'arbitrar', 'indicar', 'penal', 'pedirle', 'premiar', 'hostia', 'oportunidad', 'odette', 'avisarle', 'andar', 'sigfrido', 'rotbart', 'odile', 'matrimoniar', 'mago', 'acepto', 'devolver', 'original', 'botellazo', 'laguna', 'duero', 'visitar', 'parejo', 'casa', 'verlos', 'pasear', 'estafeta', 'luis', 'tuve', 'llamar', 'lánea', 'paisa', 'charro', 'facturar', 'muchacho', 'reír', 'esperar', 'monitoreen', 'jaja', 'admiro', 'trayectoria', 'momento', 'noticiar', 'comentario', 'acercar', 'urgente', 'trudeau', 'ôùsuenan', 'campana', 'boda', 'ôðya', 'dueño', 'pegar', 'signar', 'acuario', 'capricornio', 'pensativo', 'aries', 'tauro', 'géminis', 'hambre', 'virgo', 'historia', 'libra', 'enntodo', 'escorpio', 'videos', 'sagitario', 'viajar', 'piscis', 'musicar', 'importar', 'puerta', 'abrir', 'kovito', 'valencia', 'llevar', 'arrastrar', 'violencia', 'hacerle', 'favor', 'tenerlo', 'perrero', 'acoger', 'gobierno', 'extasiado', 'indh', 'dedicados', 'carabineros', 'ffaa', 'informar', 'platillo', 'platita', 'pymes', 'quebradas', 'dejar', 'miles', 'cesantes', 'pantalla', 'detener', 'tender', 'robo', 'camioneta', 'arma', 'fuego', 'monte', 'alegre', 'pueblo', 'mateo', 'cuautepec', 'municipio', 'tultitlán', 'buuu', 'ôðbuenas', 'ôùsabéis', 'celebrar', 'followers', 'sorteamos', 'taza', 'reglas', 'tuitea', 'hashtag', 'miércoles', 'enero', 'jueves', 'sabrís', 'color', 'jano', 'boca', 'presidente', 'xeneize', 'futbolista', 'club', 'detalle', 'noto', 'ameal', 'súper', 'cursar', 'ayudante', 'abril', 'mayar', 'bélgica', 'italia', 'decencia', 'juicio', 'anfp', 'reglamentar', 'despedir', 'colega', 'moreno', 'naaaa', 'tenés', 'escoger', 'celebremos', 'darnos', 'respirar', 'preguntarnos', 'excluyente', 'generalmente', 'presentar', 'encuestar', 'anoche', 'borrar', 'resulta', 'demsiado', 'tendría', 'ôùque', 'larkin', 'enojo', 'rompimos', 'ventaja', 'sumense', 'descarguen', 'hagan', 'cuentas', 'voten', 'roty', 'dioosssss', 'espert', 'embajada', 'necesitamos', 'biblioteca', 'bello', 'comercial', 'leer', 'sector', 'infantil', 'despatarrarse', 'leerle', 'nieto', 'tenerla', 'hilar', 'pobre', 'odiar', 'tanga', 'azteca', 'coronar', 'ancestra', 'endémico', 'pluma', 'peligrar', 'dulce', 'merecer', 'penar', 'rebatirle', 'poema', 'chimpancé', 'artículo', 'ôðbuen', 'morirme', 'comer', 'pensador', 'motivador', 'tocar', 'cojón', 'apeles', 'poblar', 'circo', 'morir', 'insabi', 'atender', 'medicamento', 'chato', 'ampones', 'impunemente', 'caro', 'manifiestese', 'like', 'yorechazo', 'cacha', 'maravillosa', 'eliminar', 'encontrarme', 'mariana', 'carro', 'costar', 'trífico', 'disminuir', 'florence', 'cassez', 'quedarí', 'montaje', 'rendir', 'cuenta', 'mensaje', 'festival', 'jazz', 'plaza', 'habana', 'santiago', 'cuba', 'hermanar', 'espíritu', 'librarí', 'clamar', 'protector', 'apiadarí', 'indigente', 'salvarí', 'rescatarí', 'serí', 'redar', 'ando', 'desanimar', 'ganarlo', 'posdata', 'manutu', 'rakan', 'hehehe', 'rentar', 'traspasar', 'darlo', 'médico', 'ofrecerlo', 'copropiedad', 'rifarlo', 'robar', 'primario', 'profesor', 'gradar', 'bizcochitos', 'recrear', 'charlar', 'comunicado', 'prensa', 'tuculandia', 'juan', 'manzur', 'consternar', 'fuerte', 'provincia', 'playa', 'caribeño', 'mandar', 'creaturas', 'tucumán', 'manzurdevacaciones', 'estupidez', 'quince', 'legislatura', 'liniers', 'ascenso', 'argentino', 'junto', 'plata', 'socio', 'aysa', 'cortar', 'servicio', 'sentirme', 'estafar', 'elemento', 'municipal', 'armar', 'blanco', 'expreso', 'somostodos', 'cagar', 'drake', 'puto', 'judío', 'caerí', 'sonrisa', 'hermoso', 'proteger', 'ôùcomo', 'describirías', 'intimidante', 'entusiasta', 'artístico', 'rompecorazones', 'interesante', 'gamer', 'perezoso', 'popular', 'inteligente', 'divertido', 'cabreado', 'frio', 'fuertudo', 'repuesta', 'dinímicasfollowfiable', 'votar', 'categoría', 'chance', 'bestlyrics', 'iheartawards', 'sociedad', 'generación', 'david', 'bisbal', 'zurdo', 'pufff', 'currar', 'camarero', 'machirulo', 'espacio', 'pregunta', 'invitar', 'mitin', 'abrazando', 'locura', 'destilando', 'histeria', 'sobornando', 'dolor', 'marear', 'poesía', 'vestir', 'diestro', 'nuca', 'ôîôðoh', 'favorable', 'despreciar', 'claro', 'ahre', 'ayyyyy', 'guapo', 'gatito', 'meditabundo', 'incompatible', 'pelis', 'anfetamina', 'cocar', 'ambos', 'ôðla', 'rifar', 'tigreôð', 'deberí', 'laura', 'ingalls', 'pequeña', 'pradera', 'encantador', 'unir', 'charles', 'comentar', 'demandar', 'social', 'desigualdad', 'mantenerse', 'saludo', 'alto', 'metro', 'candidato', 'grupo', 'elegir', 'incluir', 'rentabilizar', 'descontentar', 'distinto', 'desplomar', 'fracasar', 'cantidad', 'aleatorio', 'humillar', 'dignidad', 'doblegar', 'maldito', 'ôðhola', 'rutina', 'entrenamiento', 'ôðrutina', 'calentamiento', 'ôùlistas', 'preparar', 'músculo', 'quitar', 'sombrero', 'actores', 'escándalo', 'imagen', 'literal', 'argumentar', 'medir', 'nivel', 'salarial', 'incentivar', 'empresarial', 'tecnología', 'sustitutivo', 'ôùtoda', 'productividad', 'crecimiento', 'retirarle', 'instancia', 'internacional', 'privilegio', 'cegar', 'tíchira', 'cachito', 'ganarí', 'facu', 'ferrario', 'esforzar', 'ceibos', 'grande', 'temible', 'inconveniente', 'nuevamente', 'atravesar', 'teléfono', 'pelinegro', 'bufido', 'exasperar', 'rosa', 'rojo', 'movimiento', 'cama', 'ajeno', 'despertándolo', 'percatarse', 'tomohisa', 'donovan', 'despertarte', 'congelar', 'ingenuo', 'llegarí', 'banda', 'mercenario', 'destruir', 'institucione', 'revelar', 'farsa', 'organizar', 'felipe', 'oscuro', 'capítulo', 'autor', 'dejen', 'hacerse', 'amarrar', 'iddhh', 'recibirí', 'congreso', 'obviar', 'brito', 'chavismo', 'aguerrir', 'entrompaban', 'esbirro', 'manifestante', 'preciar', 'especie', 'menor', 'rapiñar', 'moto', 'josé', 'todoporamor', 'señal', 'destinar', 'ôðesta', 'noche', 'tregua', 'chino', 'producir', 'temer', 'sucio', 'porqué', 'necesitar', 'funcionar', 'listening', 'party', 'always', 'ílbum', 'escucharla', 'walls', 'wallsiscoming', 'confiar', 'trump', 'lento', 'pompeo', 'instalar', 'abrams', 'enferma', 'transparentar', 'basto', 'contestación', 'triste', 'disimular', 'patitas', 'venirôî', 'gratis', 'sanar', 'bonito', 'pelar', 'esperando', 'girar', 'carnaval', 'pueulo', 'conjuntar', 'realizar', 'religiosidad', 'conmovedor', 'presenta', 'símbolo', 'parchado', 'mover', 'decadencia', 'miembro', 'murcia', 'libertar', 'intolerante', 'pinparental', 'ôðsi', 'amar', 'probar', 'inserte', 'venezolano', 'quemar', 'pato', 'laplayitavideooficial', 'pruebas', 'techar', 'preocupar', 'oler', 'degustar', 'chingar', 'inquietante', 'alfombrar', 'imitar', 'negar', 'elefante', 'loro', 'guardia', 'ulla', 'marco', 'aurelio', 'pedazo', 'apto', 'dama', 'demís', 'laterales', 'magazine', 'micrositio', 'mancha', 'negra', 'abrazo', 'tremendamente', 'malo', 'ojete', 'éxito', 'limitar', 'grandioso', 'ficticio', 'crear', 'oliver', 'sabot', 'abundar', 'bloquéalo', 'valentán', 'disponer', 'entregar', 'ucrania', 'jefe', 'diplomacia', 'ucraniano', 'canadí', 'víaafp', 'vergóªenzas', 'retirar', 'impondran', 'adoctrinamiento', 'basar', 'decreto', 'facultad', 'cumplir', 'ôðcuántas', 'grato', 'experiencia', 'enamorar', 'veran', 'suerte', 'papel', 'entrevistar', 'programar', 'propuesta', 'domingo', 'solidario', 'carolinaalcaldesadn', 'largo', 'racha', 'adicional', 'extra', 'permanente', 'upgrade', 'especial', 'rendimiento', 'depender', 'suceder', 'planeta', 'vídeo', 'darell', 'ôðfeliz', 'cumpleaños', 'pastel', 'aniversario', 'ôðsoy', 'horrible', 'ôðôùqué', 'aguantar', 'necesidad', 'merecedor', 'poseer', 'halagar', 'increíble', 'visual', 'personalidad', 'aprender', 'crecer', 'sincerar', 'debatir', 'ciencia', 'pesar', 'genético', 'familiar', 'ignorándolo', 'hola', 'juanito', 'pasarlo', 'opinan', 'recomendable', 'alucinante', 'viene', 'dirigir', 'playlist', 'disfrutar', 'muchísimo', 'lectura', 'temporada', 'education', 'show', 'erotico', 'lanzar', 'catalán', 'desollar', 'pedrán', 'lasso', 'ôùestís', 'despechar', 'ôùdeprimido', 'ôùtriste', 'ôùextrañas', 'estarís', 'publica', 'odio', 'jojorabbit', 'fíbula', 'antibelicista', 'sobrino', 'cine', 'emocionar', 'preciosidad', 'zidane', 'fani', 'picar', 'ruben', 'memeo', 'adictivo', 'sentirse', 'marihuana', 'perro', 'empresariado', 'satisfacer', 'danilo', 'medina', 'candidatura', 'gonzalocastillo', 'acotar', 'senador', 'promotor', 'gonzalo', 'castillo', 'groupramirezmark', 'ôðlos', 'marcela', 'kloosterboer', 'garfunkel', 'vanucci', 'emando', 'kpopers', 'osea', 'fantasia', 'peires', 'fandoms', 'otisoverparty', 'pieza', 'barroco', 'reconocer', 'muuuy', 'cosicas', 'fondo', 'cílido', 'recibimiento', 'sacrificio', 'exguerrillero', 'farc', 'asesinar', 'hober', 'arias', 'giraldo', 'tiro', 'dabeiba', 'departamento', 'antioquia', 'noroeste', 'acordar', 'vergazote', 'trabar', 'citar', 'preciso', 'rico', 'llegí', 'delgado', 'chancho', 'pierna', 'necesito', 'nanai', 'asumir', 'ponerlo', 'ultimahora', 'dejarse', 'separar', 'vegetta', 'tomándolo', 'pidiéndole', 'suave', 'obedecer', 'rostro', 'verde', 'jugarlo', 'nintendoswitch', 'buscar', 'especialidad', 'alec', 'obviamente', 'ocultar', 'descuidar', 'capaci', 'mierda', 'diosssss', 'pequeño', 'axel', 'mami', 'honor', 'ucab', 'agradezco', 'sunset', 'atardecer', 'rocas', 'oceanopacifico', 'canteras', 'elfaro', 'sanantonio', 'sanantoniocity', 'casademisabuelos', 'antonio', 'review', 'jugador', 'clasico', 'extremar', 'rapido', 'ligar', 'link', 'cristiano', 'regate', 'pases', 'lujo', 'ôùquieres', 'verdad', 'recordemos', 'soobin', 'poquito', 'evento', 'avión', 'moasbestleadersoobin', 'juventud', 'armonía', 'adultez', 'paciencia', 'amoroso', 'misilístico', 'militar', 'estadounidense', 'irak', 'dominante', 'escalar', 'asesinato', 'soleimani', 'batallar', 'relatar', 'dijiste', 'clavar', 'desmoralizado', 'objetivar', 'enemigo', 'cambiémosla', 'patriota', 'cadem', 'bobby', 'caissa', 'encargarí', 'maestro', 'samuel', 'schweber', 'bolsa', 'comercio', 'demonio', 'desaparecer', 'descontrolar', 'fecho', 'nacimiento', 'conmemorar', 'deseamos', 'darles', 'cartel', 'primavera', 'puñetazo', 'lembrímosvos', 'luns', 'xaneiro', 'permanecer', 'centro', 'campus', 'librar', 'protagonista', 'arreglar', 'superar', 'rípido', 'bronco', 'humano', 'cantar', 'desahogar', 'cristo', 'echar', 'comerciante', 'templar', 'lima', 'dictadura', 'bolivia', 'ôùnuestro', 'ranger', 'piñera', 'frontero', 'cúcuta', 'maduro', 'diputado', 'jaime', 'bellolio', 'ôùalguna', 'palabrita', 'rush', 'favorito', 'bachillerato', 'peart', 'crack', 'pelotudo', 'twittea', 'pelotudeces', 'espero', 'solicitar', 'diferimiento', 'audiencia', 'fortuito', 'dcao', 'particular', 'desalentar', 'instructor', 'adentros', 'clase', 'estudiante', 'puñetero', 'gobernante', 'enfebrecida', 'salvador', 'impartir', 'magnífico', 'rebañar', 'procurar', 'mcjunior', 'absoluto', 'llenar', 'espaciar', 'gladysmarán', 'motivo', 'consecuencia', 'forzar', 'tiempo', 'complicar', 'exponer', 'cualidad', 'valiente', 'servir', 'principal', 'testigo', 'fiscalía', 'nervioso', 'maridar', 'cometer', 'italiano', 'giacomo', 'fiorino', 'klaudia', 'isayana', 'carrillo', 'gonzílez', 'tenerme', 'tapar', 'pasarme', 'entero', 'entrenar', 'decente', 'lastimar', 'falling', 'ôùqué', 'hablarís', 'prueba', 'ponerse', 'adara', 'tumbar', 'jurar', 'contento', 'universo', 'tamaño', 'acompañar', 'necesario', 'messi', 'jugar', 'desperdiciar', 'valverde', 'bromar', 'transferir', 'conoce', 'muyyyy', 'rejoice', 'bloquear', 'cielo', 'pedro', 'fila', 'expresar', 'enseñar', 'block', 'dívila', 'reconozco', 'arreglarí', 'idiotez', 'chavistas', 'argentina', 'tono', 'sánchez', 'mood', 'comiendo', 'taquitos', 'kiko', 'despegar', 'burlarse', 'preparado', 'cena', 'lolito', 'puso', 'traje', 'manchado', 'sangre', 'termine', 'fijado', 'expresarme', 'sufrir', 'evitar', 'decirle', 'lindar', 'paco', 'alcícer', 'fichar', 'atlético', 'españa', 'repescíramos', 'sentarse', 'condicionar', 'líder', 'parir', 'ayuntamiento', 'plazo', 'ruta', 'tapa', 'enmarcar', 'cultural', 'vive', 'calles', 'escribo', 'acompañé', 'endocrino', 'altavoz', 'aida', 'consulta', 'chaval', 'consultar', 'rípidamente', 'fijar', 'salar', 'vistoñ', 'naturalmente', 'ôùcuándo', 'decadente', 'desgajar', 'descabezar', 'existencia', 'teherán', 'kiev', 'referenciar', 'excelente', 'firmeza', 'principio', 'revolucionario', 'ideo', 'antimperialismo', 'cubaesnuestra', 'unidos', 'firme', 'raúl', 'invicto', 'atormentador', 'piedad', 'cuidar', 'herir', 'profundamente', 'defensor', 'oprimir', 'abogar', 'injustamente', 'acusar', 'redentor', 'vindicador', 'tour', 'abrazos', 'febrero', 'salamanca', 'entradas', 'granada', 'corto', 'almorzar', 'julio', 'mostrar', 'juveniles', 'derbi', 'quijote', 'arena', 'aupaalarcos', 'horario', 'murar', 'infranqueable', 'convencer', 'bienpensar', 'universal', 'educar', 'joder', 'bellos', 'seguidores', 'quejar', 'viento', 'realista', 'ajustar', 'bienestarparaelpueblo', 'tuiterosbuenavibra', 'encajar', 'metetela', 'formato', 'animar', 'aficionar', 'américa', 'guido', 'rodríguez', 'regocijar', 'placer', 'anti', 'arder', 'narcomantas', 'aparecieron', 'pedregal', 'picacho', 'ajusco', 'agustán', 'individuo', 'agente', 'fantasmeo', 'razonar', 'ciudadanía', 'movilizándose', 'calidad', 'salud', 'deficiente', 'conformista', 'plazadeladignidad', 'resistencia', 'noble', 'salvaje', 'precio', 'soportar', 'creatividad', 'criterio', 'reto', 'aceptar', 'retar', 'motivar', 'interesar', 'apropiar', 'maría', 'viernesñ', 'tias', 'ttaigionabsis', 'mazar', 'sabado', 'carmenñ', 'jajajajajajjaja', 'mariia', 'resumir', 'hugo', 'rafa', 'acaramelar', 'tontear', 'flavio', 'cicatrizar', 'grecia', 'hospital', 'comedor', 'lugar', 'lengua', 'humedad', 'efectivamente', 'complacer', 'considerable', 'segundo', 'sobretodo', 'efectuar', 'precisar', 'centrando', 'demasiadas', 'tambie', 'escribir', 'estare', 'sumergir', 'burbuja', 'dejo', 'cuartelar', 'responder', 'disuarias', 'terroristas', 'dialogar', 'coser', 'interior', 'caño', 'clon', 'records', 'norte', 'imponer', 'comunismo', 'corea', 'capitalismo', 'totalitario', 'desarrollar', 'diferenciar', 'sistema', 'roja', 'quedo', 'jamís', 'verís', 'detenido', 'terminal', 'aguardar', 'parar', 'taxi', 'descender', 'birrodado', 'conducir', 'cartero', 'celular', 'documento', 'favorrr', 'gemir', 'menesteroso', 'seguridad', 'anhelar', 'apolo', 'coger', 'daphne', 'mano', 'peneyu', 'írbol', 'esbelto', 'hoja', 'corresponder', 'concept', 'personaje', 'proyectar', 'salirme', 'estilar', 'evitarme', 'disgusto', 'tirar', 'deafheaven', 'novio', 'death', 'metal', 'jisters', 'resistirme', 'escuché', 'sunbather', 'post', 'combinar', 'bendecir', 'alquimista', 'impulsarlapatriaproductiva', 'demostrar', 'hecho', 'voluntad', 'produciresvencer', 'lady', 'gaga', 'spotify', 'mantenerlo', 'buenosdiasatodos', 'ellasjuegan', 'monterrey', 'jeje', 'azul', 'casilla', 'asha', 'plíticas', 'mánimo', 'lobito', 'pajarraco', 'ôðméxico', 'pumas', 'universidad', 'admirar', 'foto', 'cifrar', 'piolar', 'chileno', 'marchar', 'ocupar', 'prioridad', 'listo', 'mayoría', 'dirís', 'vallar', 'sientete', 'numerar', 'chiquitán', 'suertuda', 'localidad', 'fritz', 'masivo', 'clima', 'comerciar', 'ambulante', 'sindicato', 'boto', 'escombro', 'tele', 'algun', 'hueso', 'politica', 'dieciocho', 'calendario', 'little', 'women', 'cortefiel', 'contratar', 'semanal', 'lunes', 'tranquilo', 'noticias', 'altura', 'bgsupongo', 'indirectamente', 'beomgyu', 'chiquito', 'aliviar', 'extrañar', 'drogar', 'temor', 'queria', 'drogadicto', 'gozandola', 'exhibir', 'conducta', 'estaria', 'euforico', 'irme', 'campito', 'quedarme', 'bocinar', 'contagioso', 'echavaineo', 'conquistador', 'heredia', 'malambo', 'atlántico', 'artesanía', 'barrer', 'elaborar', 'habitante', 'indígena', 'mokaní', 'cocinar', 'tanta', 'prepotencia', 'respetar', 'empujón', 'vega', 'elística', 'juez', 'concursante', 'fairplay', 'confundir', 'estudio', 'inteligencia', 'sensible', 'débil', 'carícter', 'maleducado', 'chichos', 'chunguitos', 'buah', 'desleal', 'susana', 'nicole', 'encantar', 'normal', 'contenido', 'cambian', 'skamespaña', 'prontuario', 'segovia', 'rato', 'tolkien', 'cristopher', 'trabajo', 'titánico', 'vinculan', 'rata', 'gabriel', 'pastor', 'madrid', 'fallo', 'cogia', 'finde', 'gozao', 'visquen', 'fallir', 'visca', 'avionpresidencial', 'cargado', 'inmundicia', 'incongruencia', 'deshonestidad', 'incapacidad', 'resentimiento', 'lopez', 'lopeznosestamatando', 'molestarte', 'mirándole', 'alred', 'ôùseguro', 'fingir', 'lístima', 'respuesta', 'finalmente', 'rodilla', 'cuerpo', 'manta', 'enserio', 'mimo', 'cariñoso', 'pedo', 'tocan', 'apuntalar', 'viga', 'progre', 'ilegalizar', 'realidad', 'ilegal', 'impedir', 'bola', 'agansajandose', 'punto', 'venirme', 'gozar', 'internautas', 'coreano', 'opinar', 'idols', 'completar', 'constante', 'cyber', 'sleuth', 'digimon', 'serverd', 'discord', 'online', 'únanse', 'comunidad', 'lider', 'baladas', 'palito', 'ortega', 'visitenos', 'hijueputa', 'golpe', 'trabándose', 'quizís', 'incomodar', 'felix', 'volverte', 'cont', 'sitiar', 'tacto', 'repetir', 'ruptura', 'ademís', 'susurrar', 'despistar', 'petrolero', 'jaguar', 'pastar', 'increible', 'verlo', 'marathon', 'arroz', 'fríjol', 'desayunar', 'podar', 'suspender', 'emoji', 'iheartaward', 'mendigar', 'sakurai', 'fallecimiento', 'prematuro', 'olgagonzílez', 'fcnm', 'espol', 'química', 'ôðse', 'olguita', 'huella', 'vivifícame', 'jehoví', 'conformar', 'rogar', 'voluntario', 'salmos', 'libertador', 'colorir', 'sabían', 'líser', 'curar', 'veza', 'jajajj', 'pico', 'pescar', 'sándrome', 'estocolmo', 'neto', 'odioso', 'inmenso', 'ganarse', 'papar', 'monumento', 'despilfarrar', 'calderon', 'perdonar', 'representar', 'derrochar', 'fascismo', 'idiota', 'figurar', 'eliminarla', 'monopolio', 'autoritarismo', 'actuar', 'protocolar', 'abusar', 'emblema', 'matapacos', 'retomar', 'yoga', 'mantitas', 'ladrillo', 'esterilla', 'blog', 'gurú', 'scotiabank', 'asco', 'cadetes', 'ôðno', 'diadelestudiantedepolicia', 'héroeseternos', 'grito', 'vividor', 'secundario', 'psicología', 'kontau', 'dotzuet', 'nire', 'herrixan', 'bixar', 'dala', 'gero', 'astebeteko', 'oporrak', 'dittudala', 'hori', 'izar', 'hutsa', 'bmcgambia', 'fielesamartí', 'martí', 'peculiaridad', 'darle', 'optimismo', 'alegría', 'cobarde', 'extremista', 'iluminar', 'tiniebla', 'somoscontinuidad', 'colocar', 'guia', 'tallar', 'doblemente', 'pistar', 'cacacif', 'sacatepéquez', 'repararia', 'inmediatamente', 'reparar', 'galletitas', 'dentar', 'fracturar', 'ogts', 'rincón', 'venezuela', 'directorio', 'planificar', 'agenda', 'selena', 'gomez', 'festejado', 'disco', 'rare', 'ôðpum', 'viajes', 'meme', 'javinoble', 'méxico', 'kevin', 'película', 'tilda', 'swinton', 'dedo', 'llagar', 'ôùhacer', 'chairos', 'digo', 'pvtóö', 'jalife', 'fotos', 'famoso', 'supervivencia', 'amplio', 'marcador', 'ôðda', 'click', 'revivir', 'galería', 'ôðgracias', 'palabras', 'lindo', 'puigdemont', 'exterrorista', 'farage', 'velorio', 'gendarme', 'placa', 'regir', 'imperio', 'super', 'noemi', 'insultar', 'decia', 'graves', 'daga', 'impotencia', 'naturaleza', 'romper', 'esencia', 'mascar', 'cariño', 'suponer', 'soltarle', 'johnny', 'pacheco', 'continuo', 'ignorar', 'alex', 'masucci', 'desesperadamente', 'campar', 'yankee', 'stadium', 'tarima', 'agostar', 'híblalo', 'entérate', 'xalapa', 'veracruz', 'delirio', 'distraida', 'sabiduría', 'inocencia', 'hablamos', 'jill', 'thompson', 'comic', 'kitty', 'pryde', 'anda', 'moribundo', 'desenamorar', 'doctor', 'yerbatero', 'camello', 'trazar', 'estrategia', 'sostenible', 'somoscuba', 'este', 'mountro', 'nombrar', 'apellidar', 'dirí', 'comisionar', 'patada', 'huevo', 'shiro', 'pasillo', 'ceño', 'suspirar', 'ôùno', 'shizuno', 'mangar', 'perfecto', 'enfadar', 'pirar', 'luegoo', 'ojos', 'labios', 'quisieron', 'enamorado', 'sentimiento', 'adorarte', 'beso', 'altar', 'instante', 'alimentar', 'amistar', 'hermandad', 'fraternal', 'pelear', 'quedarte', 'viéndolo', 'avanzar', 'croqueta', 'capacidad', 'automíticamente', 'kiwi', 'atragantarme', 'ensangrentar', 'celda', 'faso', 'guitarra', 'estíis', 'diosito', 'cuerpecito', 'seat', 'cucaracha', 'aplastí', 'fiat', 'bravo', 'callejero', 'ford', 'focus', 'juntar', 'mezclar', 'estuve', 'puente', 'acceso', 'seña', 'camión', 'thesimsfreeplay', 'container', 'realizarlo', 'anímateñ', 'vago', 'vándalo', 'ciclovía', 'santa', 'procesión', 'profeta', 'muerte', 'nacer', 'página', 'rescatarme', 'jajajajaj', 'nerea', 'atento', 'llamada', 'pendiente', 'tcms', 'grandeee', 'infierno', 'asustar', 'sonereia', 'asignatura', 'exímenes', 'aprobar', 'septiembre', 'secuenciar', 'cabeza', 'limpiar', 'potar', 'coche', 'limpiarlo', 'sudadera', 'intacto', 'urgir', 'práncipe', 'lula', 'deprimis', 'colectivo', 'violentamente', 'cubrir', 'caravana', 'asamblea', 'robarme', 'palacio', 'verme', 'grabar', 'avalancha', 'haya', 'físicamente', 'laburo', 'plato', 'delicioso', 'dijieron', 'margarita', 'reir', 'rodearse', 'abundante', 'suscríbete', 'dmentepositivo', 'territorio', 'economía', 'socialista', 'adversidad', 'séneca', 'siéntete', 'perrito', 'bañar', 'energía', 'risassss', 'panamí', 'proteje', 'afligido', 'rosaluxemburgo', 'frase', 'recordarla', 'reflexionar', 'libertario', 'ternura', 'pensamiento', 'enrabiar', 'bienvenido', 'hinchar', 'utilizar', 'tribuna', 'giamattei', 'describir', 'desesperanzar', 'faltar', 'credibilidad', 'expectativa', 'legar', 'muchooo', 'prometer', 'calmar', 'ôùen', 'locodecidmequésesiente', 'atasco', 'cola', 'jazztel', 'home', 'epoca', 'hoyyyy', 'necesitam', 'demostrémosles', 'paro', 'belleza', 'maiskell', 'ôðrecuerda', 'nepenthe', 'niño', 'cuyo', 'inusual', 'costarle', 'disfruta', 'multipremiada', 'gruñir', 'puchero', 'arrugar', 'tomioka', 'emocional', 'enmascarar', 'acunarlo', 'protegerlo', 'verle', 'hervir', 'sabito', 'oficial', 'peor', 'convertir', 'costumbre', 'insoportable', 'dificil', 'jajajjajaj', 'orgullo', 'recomendar', 'trabajando', 'oaxaca', 'paseando', 'villa', 'españolar', 'bilbao', 'actúal', 'devenir', 'estando', 'callar', 'ibíñez', 'ondear', 'bandera', 'anunciarles', 'desempeñar', 'obra', 'pública', 'ciudad', 'aires', 'ball', 'kakarot', 'simplista', 'sobrar', 'despertarí', 'estafabancopopular', 'taehyung', 'jungkook', 'llenarle', 'besitos', 'bebito', 'cargoso', 'beneficio', 'garantizar', 'plancontrolterritorial', 'katniss', 'pasarí', 'consumir', 'hits', 'síbado', 'víspera', 'poptardeo', 'informativo', 'manifestación', 'federico', 'balear', 'habría', 'cogerse', 'comprender', 'tips', 'volteo', 'grandeza', 'ôùquien', 'silenciar', 'temeroso', 'fugaz', 'vejez', 'sufrimiento', 'alejar', 'busqué', 'alentar', 'ministra', 'comunista', 'serlo', 'feligrés', 'especialista', 'fundir', 'roto', 'foco', 'antier', 'torturar', 'espionaje', 'manuel', 'gremio', 'porto', 'trocar', 'cruzeiro', 'orejuela', 'canterano', 'enfrentarí', 'copa', 'libertadores', 'representante', 'velasco', 'olor', 'napalm', 'facha', 'dual', 'inclinar', 'melancolía', 'autodestructivo', 'salgo', 'decenas', 'actriz', 'posters', 'reese', 'whitersponn', 'montar', 'cadillac', 'pensarí', 'tarde', 'quiereeeeee', 'cantarrrrr', 'cantarrrr', 'abelenjesusmaria', 'chiquilles', 'software', 'democracia', 'bendecido', 'wally', 'router', 'noviembre', 'fijo', 'principiar', 'acostumbraria', 'ponemos', 'cuarteto', 'jimenero', 'molina', 'plantar', 'consecutivo', 'límpara', 'aladino', 'recoger', 'inercia', 'objetar', 'ôðôðverde', 'ôðbien', 'festejar', 'fernanda', 'kanno', 'copiloto', 'podio', 'parental', 'penetración', 'anal', 'pertenecer', 'dividir', 'crispar', 'decírsela', 'empresario', 'ceoe', 'apuesto', 'propiedad', 'hayek', 'regaleis', 'pienso', 'justar', 'mirandes', 'mana', 'compartirlo', 'correspondiente', 'impuesto', 'millón', 'peso', 'generoso', 'mesías', 'condonarí', 'piénselo', 'ôðha', 'ôðque', 'logro', 'descansar', 'corazón', 'totallll', 'goya', 'juzgarlo', 'buenisima', 'guapisima', 'esposar', 'siii', 'comprimir', 'gokú', 'derrotar', 'lobo', 'pinchar', 'recordando', 'actor', 'cary', 'grant', 'eterno', 'seductor', 'caballero', 'elegante', 'irrepetible', 'ôðeterno', 'ahhhhh', 'cosa', 'pone', 'pusieron', 'gustaba', 'acordó', 'hiciste', 'infumable', 'anor', 'apetecible', 'nublar', 'bajito', 'acariciar', 'deci', 'notjumping', 'espalda', 'jodio', 'proveedor', 'encontrado', 'surco', 'ayúdalo', 'regresar', 'ayudaloavolver', 'pensarcomopaís', 'bienestar', 'excluir', 'vamospormas', 'ecuador', 'proporcionar', 'rasgar', 'vestidura', 'reflexiones', 'académico', 'octavio', 'mora', 'diciendome', 'cortito', 'primar', 'wilfredo', 'deja', 'estarlo', 'fechas', 'disponibles', 'bosque', 'montaña', 'reservadelabiosferaelcielo', 'tamaulipas', 'cdvictoria', 'matamoros', 'ecologia', 'reynosa', 'tampico', 'altamira', 'valle', 'guanajuato', 'machar', 'mientraa', 'continuíbamos', 'caminata', 'contemplar', 'molestarla', 'agradar', 'ligeramente', 'sonrio', 'señorito', 'padme', 'luke', 'skywalker', 'respondio', 'ôùpor', 'guardiola', 'barcelonañ', 'enfrentamiento', 'ocurrirí', 'apreciarla', 'capitulazo', 'aaahh', 'advertir', 'forrar', 'norma', 'avisar', 'sacarme', 'plaquita', 'dejemonos', 'chiquillada', 'presunto', 'monasterio', 'prescribir', 'tuits', 'imaginar', 'bísicamente', 'pequeñito', 'bruto', 'semestre', 'invadir', 'netflix', 'youtube', 'idioma', 'afligidoôù', 'recalcar', 'quejica', 'dinosaurio', 'princesitas', 'guisante', 'dedicar', 'siempr', 'escoba', 'mánimos', 'estallar', 'contactarme', 'número', 'walmart', 'peder', 'ôùverdad', 'chorro', 'método', 'anticonceptivo', 'goals', 'suicidar', 'electr', 'obligar', 'resumen', 'entrevista', 'perdíis', 'completo', 'canyaman', 'estilo', 'youtubers', 'pensarlo', 'acomodar', 'vaya', 'aguar', 'oendejo', 'bajar', 'discosñ', 'envíos', 'república', 'mexicana', 'obtén', 'hoodie', 'entra', 'causar', 'porcentaje', 'ayudameacrecer', 'bethechange', 'calor', 'anécdota', 'triunfo', 'empujar', 'licenciar', 'curarme', 'resort', 'star', 'necesita', 'juzgar', 'doctores', 'animo', 'riéndome', 'vicente', 'vallés', 'castigar', 'mofar', 'denunciar', 'ciertamente', 'sumamente', 'aliar', 'sospechar', 'resaltador', 'diré', 'wanchope', 'remil', 'emperador', 'offside', 'monstruo', 'ajuntar', 'foráneo', 'nariz', 'sharon', 'elfo', 'aplastar', 'puuuummmm', 'priviet', 'kostya', 'jajajajaja', 'serís', 'boleto', 'girl', 'arrebato', 'congresos', 'precios', 'venta', 'taquilla', 'teatro', 'isabel', 'guerra', 'hermano', 'contesta', 'ivan', 'miguel']\n",
      "[[0. 1. 0. ... 0. 0. 0.]\n",
      " [0. 0. 1. ... 0. 0. 0.]\n",
      " [0. 0. 0. ... 0. 0. 0.]\n",
      " ...\n",
      " [0. 0. 0. ... 0. 0. 0.]\n",
      " [0. 0. 0. ... 0. 0. 0.]\n",
      " [0. 0. 0. ... 0. 0. 0.]]\n"
     ]
    }
   ],
   "source": [
    "# Ahora usamos los tweets del dataset\n",
    "tweets = data['description']\n",
    "corpus, encoded_corpus = construir_corpus(tweets)\n",
    "print (corpus)\n",
    "print (encoded_corpus) # esto no lo vamos a necesitar para nuestro ejemplo"
   ]
  },
  {
   "cell_type": "code",
   "execution_count": 36,
   "metadata": {},
   "outputs": [
    {
     "name": "stdout",
     "output_type": "stream",
     "text": [
      "2000\n",
      "2000\n",
      "5000\n",
      "[[1. 1. 1. ... 0. 0. 0.]\n",
      " [0. 0. 0. ... 0. 0. 0.]\n",
      " [0. 0. 0. ... 0. 0. 0.]\n",
      " ...\n",
      " [0. 0. 0. ... 0. 0. 0.]\n",
      " [0. 0. 0. ... 0. 0. 0.]\n",
      " [0. 0. 0. ... 0. 0. 0.]]\n"
     ]
    }
   ],
   "source": [
    "# echo 1 > /proc/sys/vm/overcommit_memory\n",
    "\n",
    "import numpy as np\n",
    "\n",
    "from keras.utils import to_categorical\n",
    "\n",
    "def codifica_tweets(tweets, corpus, corpus_size=5000):\n",
    "    coded = np.zeros((len(tweets), corpus_size))\n",
    "    for i, tweet_text in enumerate(tweets):\n",
    "        words = tweet_text.lower().split()\n",
    "        for w in words:\n",
    "            if w in corpus:\n",
    "                coded[i,corpus.index(w)] = 1\n",
    "\n",
    "    return coded\n",
    "\n",
    "x_train = codifica_tweets(data['description'], corpus)\n",
    "y_train = to_categorical(data['target'])\n",
    "print (len(data['description']))\n",
    "print(x_train.shape[0])\n",
    "print(x_train.shape[1])\n",
    "print (x_train)"
   ]
  },
  {
   "cell_type": "code",
   "execution_count": 37,
   "metadata": {},
   "outputs": [
    {
     "name": "stdout",
     "output_type": "stream",
     "text": [
      "3000\n",
      "2000\n",
      " compartir video íguilas real combatir preso zorro abatir considerar totémico dios solar tutelar mexica Huitzilopochtli nahua considerar volar\n",
      "tristeza\n",
      "1\n"
     ]
    }
   ],
   "source": [
    "print(len(corpus))\n",
    "print(len(data['description']))\n",
    "print(data['description'][0])\n",
    "print(data['sentiment'][0])\n",
    "print(data['target'][0])"
   ]
  },
  {
   "cell_type": "code",
   "execution_count": 38,
   "metadata": {},
   "outputs": [],
   "source": [
    "# barajamos el dataset\n",
    "np.random.seed(42)    \n",
    "permutation = np.random.permutation(x_train.shape[0])\n",
    "x_train_p = x_train[permutation]\n",
    "y_train_p = y_train[permutation]\n",
    "     \n",
    "# obtenemos el conjunto de validación\n",
    "num_val = 1000\n",
    "x_val = x_train_p[:num_val]\n",
    "x_train = x_train_p[num_val:]\n",
    "y_val = y_train_p[:num_val]\n",
    "y_train = y_train_p[num_val:]\n",
    "\n",
    "# obtenemos el conjunto de test\n",
    "x_test = x_train_p[:num_val]\n",
    "x_train = x_train_p[num_val:]\n",
    "y_test = y_train_p[:num_val]\n",
    "y_train = y_train_p[num_val:]"
   ]
  },
  {
   "cell_type": "code",
   "execution_count": 39,
   "metadata": {},
   "outputs": [
    {
     "name": "stdout",
     "output_type": "stream",
     "text": [
      "2000\n",
      "[0. 0. 0. ... 0. 0. 0.]\n",
      "[0. 1. 0.]\n",
      "description     ùNOMBRE\n",
      "sentiment       alegria\n",
      "Name: 2, dtype: object\n",
      "[0. 0. 0. ... 0. 0. 0.]\n",
      "[0. 0. 1.]\n",
      "description     perder padre discutir hijo decir Cuíl hacer d...\n",
      "sentiment                                                alegria\n",
      "Name: 3, dtype: object\n",
      "[0. 0. 0. ... 0. 0. 0.]\n",
      "[0. 1. 0.]\n",
      "description     sorpresa festivo felicidad\n",
      "sentiment                          alegria\n",
      "Name: 4, dtype: object\n",
      "[0. 0. 0. ... 0. 0. 0.]\n",
      "[0. 1. 0.]\n",
      "description     salir encerrar creer salir cáncer vida estúpido\n",
      "sentiment                                              tristeza\n",
      "Name: 5, dtype: object\n",
      "[0. 0. 0. ... 0. 0. 0.]\n",
      "[0. 1. 0.]\n",
      "description     olvidarse calmarte tenia atacar llanto miedo ...\n",
      "sentiment                                                    ira\n",
      "Name: 6, dtype: object\n",
      "[0. 0. 0. ... 0. 0. 0.]\n",
      "[0. 1. 0.]\n",
      "description     joven rubio acabar notar extraño mujer curios...\n",
      "sentiment                                               tristeza\n",
      "Name: 7, dtype: object\n",
      "[0. 0. 0. ... 0. 0. 0.]\n",
      "[1. 0. 0.]\n",
      "description     amigo querer salir pasar volver hablar cambia...\n",
      "sentiment                                                    ira\n",
      "Name: 8, dtype: object\n",
      "[0. 0. 0. ... 0. 0. 0.]\n",
      "[0. 1. 0.]\n",
      "description     madre diciéndome deberia estudiar entrar mira...\n",
      "sentiment                                                    ira\n",
      "Name: 9, dtype: object\n",
      "[0. 0. 0. ... 0. 0. 0.]\n",
      "[1. 0. 0.]\n",
      "description     exigente capaz genio rabiar\n",
      "sentiment                               ira\n",
      "Name: 10, dtype: object\n"
     ]
    }
   ],
   "source": [
    "print(x_train_p.shape[0])\n",
    "\n",
    "i = 1\n",
    "while i < 10:\n",
    "    i += 1  \n",
    "    print (x_train[i])\n",
    "    print (y_train[i])\n",
    "    print (data.iloc[i,1:3])"
   ]
  },
  {
   "cell_type": "code",
   "execution_count": 42,
   "metadata": {},
   "outputs": [
    {
     "name": "stdout",
     "output_type": "stream",
     "text": [
      "Train on 2000 samples, validate on 1000 samples\n",
      "Epoch 1/10\n",
      "2000/2000 [==============================] - 1s 327us/step - loss: 1.0667 - acc: 0.5060 - val_loss: 1.0131 - val_acc: 0.6610\n",
      "Epoch 2/10\n",
      "2000/2000 [==============================] - 0s 114us/step - loss: 0.9932 - acc: 0.6890 - val_loss: 0.9448 - val_acc: 0.7710\n",
      "Epoch 3/10\n",
      "2000/2000 [==============================] - 0s 119us/step - loss: 0.9255 - acc: 0.7765 - val_loss: 0.8768 - val_acc: 0.8110\n",
      "Epoch 4/10\n",
      "2000/2000 [==============================] - 0s 117us/step - loss: 0.8583 - acc: 0.8160 - val_loss: 0.8104 - val_acc: 0.8480\n",
      "Epoch 5/10\n",
      "2000/2000 [==============================] - 0s 117us/step - loss: 0.7947 - acc: 0.8470 - val_loss: 0.7493 - val_acc: 0.8870\n",
      "Epoch 6/10\n",
      "2000/2000 [==============================] - 0s 115us/step - loss: 0.7351 - acc: 0.8855 - val_loss: 0.6924 - val_acc: 0.9200\n",
      "Epoch 7/10\n",
      "2000/2000 [==============================] - 0s 117us/step - loss: 0.6803 - acc: 0.9200 - val_loss: 0.6399 - val_acc: 0.9490\n",
      "Epoch 8/10\n",
      "2000/2000 [==============================] - 0s 117us/step - loss: 0.6289 - acc: 0.9450 - val_loss: 0.5897 - val_acc: 0.9630\n",
      "Epoch 9/10\n",
      "2000/2000 [==============================] - 0s 116us/step - loss: 0.5804 - acc: 0.9575 - val_loss: 0.5434 - val_acc: 0.9760\n",
      "Epoch 10/10\n",
      "2000/2000 [==============================] - 0s 116us/step - loss: 0.5357 - acc: 0.9705 - val_loss: 0.5002 - val_acc: 0.9830\n"
     ]
    }
   ],
   "source": [
    "from keras import models, layers\n",
    "\n",
    "model = models.Sequential()\n",
    "model.add(layers.Dense(16, activation='relu', input_shape=(5000,)))\n",
    "model.add(layers.Dense(16, activation='relu'))\n",
    "model.add(layers.Dense(3, activation='softmax'))\n",
    "\n",
    "model.compile(optimizer='rmsprop',\n",
    "             loss='categorical_crossentropy',\n",
    "             metrics=['acc'])\n",
    "\n",
    "train_log = model.fit(x_train_p, y_train_p,\n",
    "                     epochs=10, batch_size=512,\n",
    "                     validation_data=(x_val, y_val))"
   ]
  },
  {
   "cell_type": "code",
   "execution_count": 43,
   "metadata": {},
   "outputs": [
    {
     "data": {
      "image/png": "[encoded data removed]",
      "text/plain": [
       "<Figure size 432x288 with 1 Axes>"
      ]
     },
     "metadata": {
      "needs_background": "light"
     },
     "output_type": "display_data"
    },
    {
     "data": {
      "image/png": "[encoded data removed]",
      "text/plain": [
       "<Figure size 432x288 with 1 Axes>"
      ]
     },
     "metadata": {
      "needs_background": "light"
     },
     "output_type": "display_data"
    }
   ],
   "source": [
    "import matplotlib.pyplot as plt\n",
    "\n",
    "acc = train_log.history['acc']\n",
    "val_acc = train_log.history['val_acc']\n",
    "loss = train_log.history['loss']\n",
    "val_loss = train_log.history['val_loss']\n",
    "epochs = range(1, len(acc) + 1)\n",
    "plt.plot(epochs, acc, 'r', label='Training acc')\n",
    "plt.plot(epochs, val_acc, 'b', label='Validation acc')\n",
    "plt.title('Training and validation accuracy')\n",
    "plt.legend()\n",
    "plt.figure()\n",
    "plt.plot(epochs, loss, 'r', label='Training loss')\n",
    "plt.plot(epochs, val_loss, 'b', label='Validation loss')\n",
    "plt.title('Training and validation loss')\n",
    "plt.legend()\n",
    "plt.show()"
   ]
  },
  {
   "cell_type": "code",
   "execution_count": 44,
   "metadata": {},
   "outputs": [
    {
     "name": "stdout",
     "output_type": "stream",
     "text": [
      "1000/1000 [==============================] - 0s 363us/step\n",
      "0.9829999804496765\n"
     ]
    }
   ],
   "source": [
    "test_loss, test_accuracy = model.evaluate(x_test, y_test)\n",
    "print(test_accuracy)"
   ]
  },
  {
   "cell_type": "code",
   "execution_count": 46,
   "metadata": {},
   "outputs": [
    {
     "name": "stdout",
     "output_type": "stream",
     "text": [
      "0\n",
      "[0. 0. 1.]\n",
      "1\n",
      "[0. 0. 1.]\n",
      "2\n",
      "[0. 0. 1.]\n",
      "1\n",
      "[0. 0. 1.]\n",
      "0\n",
      "[0. 0. 1.]\n",
      "0\n",
      "[0. 0. 1.]\n",
      "0\n",
      "[0. 0. 1.]\n",
      "1\n",
      "[0. 0. 1.]\n",
      "2\n",
      "[0. 0. 1.]\n",
      "0\n",
      "[0. 0. 1.]\n",
      "1\n",
      "[0. 0. 1.]\n",
      "0\n",
      "[0. 0. 1.]\n",
      "1\n",
      "[0. 0. 1.]\n",
      "0\n",
      "[0. 0. 1.]\n"
     ]
    }
   ],
   "source": [
    "predictions = model.predict(x_test)\n",
    "\n",
    "i = 100\n",
    "while i < 500:\n",
    "    i += 30    \n",
    "    print (np.argmax(predictions[i]))# clase más probable\n",
    "    print (y_test[1])"
   ]
  },
  {
   "cell_type": "markdown",
   "metadata": {},
   "source": [
    "## DETECCIÓN DE SENTIMIENTOS FELICIDAD, TRISTEZA, ENOJO, ESTRES"
   ]
  },
  {
   "cell_type": "code",
   "execution_count": null,
   "metadata": {},
   "outputs": [],
   "source": [
    "#iMPORTAMOS NUESTRAS CLAVES DE ACCESO:\n",
    "from credentials import *\n",
    "\n",
    "#Configuracion de la API\n",
    "\n",
    "def twitter_setup():\n",
    "    \"\"\"\n",
    "    Función de utilidad para configurar la API de Twitter\n",
    "    con nuestras claves de acceso.\n",
    "    \"\"\"\n",
    "    #Autenticacion y acceso usando claves:\n",
    "    auth=tweepy.OAuthHandler(CONSUMER_KEY, CONSUMER_SECRET)\n",
    "    auth.set_access_token(ACCESS_TOKEN, ACCESS_SECRET)\n",
    "    \n",
    "    #Retorna la API autenticada\n",
    "    api=tweepy.API(auth)\n",
    "    return api"
   ]
  },
  {
   "cell_type": "markdown",
   "metadata": {},
   "source": [
    "# Referencias\n",
    "\n",
    "[1] Construcción de un corpus marcadocon emociones para el análisis desentimientos en Twitter en español https://pdfs.semanticscholar.org/caf9/fc60efdd22df6919d56939e6640e8661ebc9.pdf\n",
    "[2] An´alisis de contenidos en Twitter: clasificaci´on de mensajes e identificación de la tendencia pol´ıtica de los usuarios, David Vilares Calvo"
   ]
  },
  {
   "cell_type": "code",
   "execution_count": null,
   "metadata": {},
   "outputs": [],
   "source": []
  }
 ],
 "metadata": {
  "kernelspec": {
   "display_name": "Python 3",
   "language": "python",
   "name": "python3"
  },
  "language_info": {
   "codemirror_mode": {
    "name": "ipython",
    "version": 3
   },
   "file_extension": ".py",
   "mimetype": "text/x-python",
   "name": "python",
   "nbconvert_exporter": "python",
   "pygments_lexer": "ipython3",
   "version": "3.7.6"
  }
 },
 "nbformat": 4,
 "nbformat_minor": 2
}
